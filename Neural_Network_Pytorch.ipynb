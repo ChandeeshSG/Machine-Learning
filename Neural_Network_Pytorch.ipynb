{
  "nbformat": 4,
  "nbformat_minor": 0,
  "metadata": {
    "colab": {
      "provenance": [],
      "include_colab_link": true
    },
    "kernelspec": {
      "name": "python3",
      "display_name": "Python 3"
    },
    "language_info": {
      "name": "python"
    },
    "accelerator": "TPU"
  },
  "cells": [
    {
      "cell_type": "markdown",
      "metadata": {
        "id": "view-in-github",
        "colab_type": "text"
      },
      "source": [
        "<a href=\"https://colab.research.google.com/github/ChandeeshSG/Machine-Learning/blob/main/Neural_Network_Pytorch.ipynb\" target=\"_parent\"><img src=\"https://colab.research.google.com/assets/colab-badge.svg\" alt=\"Open In Colab\"/></a>"
      ]
    },
    {
      "cell_type": "markdown",
      "source": [
        "# *A simple neural network in PyTorch*"
      ],
      "metadata": {
        "id": "OIqYTw0IDCXR"
      }
    },
    {
      "cell_type": "markdown",
      "source": [
        "### Install Pytorch -https://pytorch.org/"
      ],
      "metadata": {
        "id": "pAFOzmiVDOYR"
      }
    },
    {
      "cell_type": "code",
      "source": [
        "#Import Pytorch\n",
        "import torch\n",
        "import torchvision.datasets as datasets\n",
        "import torchvision.transforms as transforms\n",
        "import torch.nn as nn\n",
        "import torch.optim as optim"
      ],
      "metadata": {
        "id": "t8hOi-DxDNbq"
      },
      "execution_count": 1,
      "outputs": []
    },
    {
      "cell_type": "markdown",
      "source": [
        "### Load and prepare the training data"
      ],
      "metadata": {
        "id": "-yr_BWuuMkgC"
      }
    },
    {
      "cell_type": "code",
      "source": [
        "transform=transforms.Compose([transforms.ToTensor(),\n",
        "                              transforms.Normalize((0.1307,),(0.3081,))])\n",
        "train_dataset=datasets.MNIST('data',train=True,download=True,transform=transform)\n",
        "train_loader=torch.utils.data.DataLoader(train_dataset,batch_size=64,shuffle=True)\n"
      ],
      "metadata": {
        "id": "4UHREwhWSEwx",
        "outputId": "0e752191-34fb-4fc5-8823-205dece12666",
        "colab": {
          "base_uri": "https://localhost:8080/"
        }
      },
      "execution_count": 2,
      "outputs": [
        {
          "output_type": "stream",
          "name": "stdout",
          "text": [
            "Downloading http://yann.lecun.com/exdb/mnist/train-images-idx3-ubyte.gz\n",
            "Downloading http://yann.lecun.com/exdb/mnist/train-images-idx3-ubyte.gz to data/MNIST/raw/train-images-idx3-ubyte.gz\n"
          ]
        },
        {
          "output_type": "stream",
          "name": "stderr",
          "text": [
            "100%|██████████| 9912422/9912422 [00:00<00:00, 90807393.87it/s]\n"
          ]
        },
        {
          "output_type": "stream",
          "name": "stdout",
          "text": [
            "Extracting data/MNIST/raw/train-images-idx3-ubyte.gz to data/MNIST/raw\n",
            "\n",
            "Downloading http://yann.lecun.com/exdb/mnist/train-labels-idx1-ubyte.gz\n",
            "Downloading http://yann.lecun.com/exdb/mnist/train-labels-idx1-ubyte.gz to data/MNIST/raw/train-labels-idx1-ubyte.gz\n"
          ]
        },
        {
          "output_type": "stream",
          "name": "stderr",
          "text": [
            "100%|██████████| 28881/28881 [00:00<00:00, 64882535.52it/s]\n"
          ]
        },
        {
          "output_type": "stream",
          "name": "stdout",
          "text": [
            "Extracting data/MNIST/raw/train-labels-idx1-ubyte.gz to data/MNIST/raw\n",
            "\n",
            "Downloading http://yann.lecun.com/exdb/mnist/t10k-images-idx3-ubyte.gz\n",
            "Downloading http://yann.lecun.com/exdb/mnist/t10k-images-idx3-ubyte.gz to data/MNIST/raw/t10k-images-idx3-ubyte.gz\n"
          ]
        },
        {
          "output_type": "stream",
          "name": "stderr",
          "text": [
            "100%|██████████| 1648877/1648877 [00:00<00:00, 30252316.84it/s]\n"
          ]
        },
        {
          "output_type": "stream",
          "name": "stdout",
          "text": [
            "Extracting data/MNIST/raw/t10k-images-idx3-ubyte.gz to data/MNIST/raw\n",
            "\n",
            "Downloading http://yann.lecun.com/exdb/mnist/t10k-labels-idx1-ubyte.gz\n",
            "Downloading http://yann.lecun.com/exdb/mnist/t10k-labels-idx1-ubyte.gz to data/MNIST/raw/t10k-labels-idx1-ubyte.gz\n"
          ]
        },
        {
          "output_type": "stream",
          "name": "stderr",
          "text": [
            "100%|██████████| 4542/4542 [00:00<00:00, 4679569.83it/s]\n"
          ]
        },
        {
          "output_type": "stream",
          "name": "stdout",
          "text": [
            "Extracting data/MNIST/raw/t10k-labels-idx1-ubyte.gz to data/MNIST/raw\n",
            "\n"
          ]
        }
      ]
    },
    {
      "cell_type": "markdown",
      "source": [
        "### Define the model"
      ],
      "metadata": {
        "id": "kxNShGWFWwnH"
      }
    },
    {
      "cell_type": "code",
      "source": [
        "class Neural(nn.Module):\n",
        "  def __init__(self):\n",
        "    super(Neural,self).__init__()\n",
        "    self.fc1=nn.Linear(28*28,128)\n",
        "    self.fc2=nn.Linear(128,10)\n",
        "  def forward(self,x):\n",
        "    x=x.view(-1,28*28)\n",
        "    x=torch.relu(self.fc1(x))\n",
        "    x=self.fc2(x)\n",
        "    return x\n",
        "net=Neural()"
      ],
      "metadata": {
        "id": "skqjkRlCW5b7"
      },
      "execution_count": 3,
      "outputs": []
    },
    {
      "cell_type": "markdown",
      "source": [
        "### Define the loss function and Optimizer"
      ],
      "metadata": {
        "id": "VGWk_TMkYitU"
      }
    },
    {
      "cell_type": "code",
      "source": [
        "criterion=nn.CrossEntropyLoss()\n",
        "optimizer=optim.SGD(net.parameters(),lr=0.01,momentum=0.5)\n"
      ],
      "metadata": {
        "id": "Ka713-vVYiNk"
      },
      "execution_count": 4,
      "outputs": []
    },
    {
      "cell_type": "markdown",
      "source": [
        "### Train the model"
      ],
      "metadata": {
        "id": "PT4ffOagzALH"
      }
    },
    {
      "cell_type": "code",
      "source": [
        "num_epochs=10\n",
        "for epoch in range(num_epochs):\n",
        "  for batch_idx,(data,target) in enumerate (train_loader):\n",
        "    optimizer.zero_grad()\n",
        "    output=net(data)\n",
        "    loss =criterion(output,target)\n",
        "    loss.backward()\n",
        "    optimizer.step()\n",
        "    if batch_idx % 100==0:\n",
        "      print('Train Epoch: {} [{}/{} ({:.0f}%)]\\tLoss: {:.6f}'.format(\n",
        "                epoch, batch_idx * len(data), len(train_loader.dataset),\n",
        "                100. * batch_idx / len(train_loader), loss.item()))\n"
      ],
      "metadata": {
        "colab": {
          "base_uri": "https://localhost:8080/"
        },
        "id": "1TSC7eFIX4Jy",
        "outputId": "a5135b65-7053-4e43-aff6-d64a4a6458fa"
      },
      "execution_count": 5,
      "outputs": [
        {
          "output_type": "stream",
          "name": "stdout",
          "text": [
            "Train Epoch: 0 [0/60000 (0%)]\tLoss: 2.318019\n",
            "Train Epoch: 0 [6400/60000 (11%)]\tLoss: 0.449432\n",
            "Train Epoch: 0 [12800/60000 (21%)]\tLoss: 0.501648\n",
            "Train Epoch: 0 [19200/60000 (32%)]\tLoss: 0.412790\n",
            "Train Epoch: 0 [25600/60000 (43%)]\tLoss: 0.637326\n",
            "Train Epoch: 0 [32000/60000 (53%)]\tLoss: 0.338071\n",
            "Train Epoch: 0 [38400/60000 (64%)]\tLoss: 0.496771\n",
            "Train Epoch: 0 [44800/60000 (75%)]\tLoss: 0.244273\n",
            "Train Epoch: 0 [51200/60000 (85%)]\tLoss: 0.188914\n",
            "Train Epoch: 0 [57600/60000 (96%)]\tLoss: 0.243259\n",
            "Train Epoch: 1 [0/60000 (0%)]\tLoss: 0.295652\n",
            "Train Epoch: 1 [6400/60000 (11%)]\tLoss: 0.239135\n",
            "Train Epoch: 1 [12800/60000 (21%)]\tLoss: 0.298981\n",
            "Train Epoch: 1 [19200/60000 (32%)]\tLoss: 0.306798\n",
            "Train Epoch: 1 [25600/60000 (43%)]\tLoss: 0.169282\n",
            "Train Epoch: 1 [32000/60000 (53%)]\tLoss: 0.226668\n",
            "Train Epoch: 1 [38400/60000 (64%)]\tLoss: 0.130370\n",
            "Train Epoch: 1 [44800/60000 (75%)]\tLoss: 0.158270\n",
            "Train Epoch: 1 [51200/60000 (85%)]\tLoss: 0.219450\n",
            "Train Epoch: 1 [57600/60000 (96%)]\tLoss: 0.321402\n",
            "Train Epoch: 2 [0/60000 (0%)]\tLoss: 0.264885\n",
            "Train Epoch: 2 [6400/60000 (11%)]\tLoss: 0.175744\n",
            "Train Epoch: 2 [12800/60000 (21%)]\tLoss: 0.178023\n",
            "Train Epoch: 2 [19200/60000 (32%)]\tLoss: 0.110304\n",
            "Train Epoch: 2 [25600/60000 (43%)]\tLoss: 0.342437\n",
            "Train Epoch: 2 [32000/60000 (53%)]\tLoss: 0.171151\n",
            "Train Epoch: 2 [38400/60000 (64%)]\tLoss: 0.137945\n",
            "Train Epoch: 2 [44800/60000 (75%)]\tLoss: 0.065374\n",
            "Train Epoch: 2 [51200/60000 (85%)]\tLoss: 0.167111\n",
            "Train Epoch: 2 [57600/60000 (96%)]\tLoss: 0.097085\n",
            "Train Epoch: 3 [0/60000 (0%)]\tLoss: 0.200068\n",
            "Train Epoch: 3 [6400/60000 (11%)]\tLoss: 0.128691\n",
            "Train Epoch: 3 [12800/60000 (21%)]\tLoss: 0.117064\n",
            "Train Epoch: 3 [19200/60000 (32%)]\tLoss: 0.164222\n",
            "Train Epoch: 3 [25600/60000 (43%)]\tLoss: 0.066470\n",
            "Train Epoch: 3 [32000/60000 (53%)]\tLoss: 0.159223\n",
            "Train Epoch: 3 [38400/60000 (64%)]\tLoss: 0.074367\n",
            "Train Epoch: 3 [44800/60000 (75%)]\tLoss: 0.228585\n",
            "Train Epoch: 3 [51200/60000 (85%)]\tLoss: 0.151796\n",
            "Train Epoch: 3 [57600/60000 (96%)]\tLoss: 0.114588\n",
            "Train Epoch: 4 [0/60000 (0%)]\tLoss: 0.153115\n",
            "Train Epoch: 4 [6400/60000 (11%)]\tLoss: 0.232388\n",
            "Train Epoch: 4 [12800/60000 (21%)]\tLoss: 0.122476\n",
            "Train Epoch: 4 [19200/60000 (32%)]\tLoss: 0.102347\n",
            "Train Epoch: 4 [25600/60000 (43%)]\tLoss: 0.227862\n",
            "Train Epoch: 4 [32000/60000 (53%)]\tLoss: 0.217118\n",
            "Train Epoch: 4 [38400/60000 (64%)]\tLoss: 0.092456\n",
            "Train Epoch: 4 [44800/60000 (75%)]\tLoss: 0.173217\n",
            "Train Epoch: 4 [51200/60000 (85%)]\tLoss: 0.119391\n",
            "Train Epoch: 4 [57600/60000 (96%)]\tLoss: 0.257621\n",
            "Train Epoch: 5 [0/60000 (0%)]\tLoss: 0.093331\n",
            "Train Epoch: 5 [6400/60000 (11%)]\tLoss: 0.190716\n",
            "Train Epoch: 5 [12800/60000 (21%)]\tLoss: 0.076628\n",
            "Train Epoch: 5 [19200/60000 (32%)]\tLoss: 0.051476\n",
            "Train Epoch: 5 [25600/60000 (43%)]\tLoss: 0.093569\n",
            "Train Epoch: 5 [32000/60000 (53%)]\tLoss: 0.158652\n",
            "Train Epoch: 5 [38400/60000 (64%)]\tLoss: 0.148889\n",
            "Train Epoch: 5 [44800/60000 (75%)]\tLoss: 0.128443\n",
            "Train Epoch: 5 [51200/60000 (85%)]\tLoss: 0.048577\n",
            "Train Epoch: 5 [57600/60000 (96%)]\tLoss: 0.154529\n",
            "Train Epoch: 6 [0/60000 (0%)]\tLoss: 0.081542\n",
            "Train Epoch: 6 [6400/60000 (11%)]\tLoss: 0.031697\n",
            "Train Epoch: 6 [12800/60000 (21%)]\tLoss: 0.164201\n",
            "Train Epoch: 6 [19200/60000 (32%)]\tLoss: 0.140377\n",
            "Train Epoch: 6 [25600/60000 (43%)]\tLoss: 0.076308\n",
            "Train Epoch: 6 [32000/60000 (53%)]\tLoss: 0.193837\n",
            "Train Epoch: 6 [38400/60000 (64%)]\tLoss: 0.071340\n",
            "Train Epoch: 6 [44800/60000 (75%)]\tLoss: 0.110788\n",
            "Train Epoch: 6 [51200/60000 (85%)]\tLoss: 0.100652\n",
            "Train Epoch: 6 [57600/60000 (96%)]\tLoss: 0.030878\n",
            "Train Epoch: 7 [0/60000 (0%)]\tLoss: 0.089579\n",
            "Train Epoch: 7 [6400/60000 (11%)]\tLoss: 0.090303\n",
            "Train Epoch: 7 [12800/60000 (21%)]\tLoss: 0.065889\n",
            "Train Epoch: 7 [19200/60000 (32%)]\tLoss: 0.050484\n",
            "Train Epoch: 7 [25600/60000 (43%)]\tLoss: 0.034149\n",
            "Train Epoch: 7 [32000/60000 (53%)]\tLoss: 0.045366\n",
            "Train Epoch: 7 [38400/60000 (64%)]\tLoss: 0.064234\n",
            "Train Epoch: 7 [44800/60000 (75%)]\tLoss: 0.166402\n",
            "Train Epoch: 7 [51200/60000 (85%)]\tLoss: 0.086738\n",
            "Train Epoch: 7 [57600/60000 (96%)]\tLoss: 0.095052\n",
            "Train Epoch: 8 [0/60000 (0%)]\tLoss: 0.031351\n",
            "Train Epoch: 8 [6400/60000 (11%)]\tLoss: 0.113474\n",
            "Train Epoch: 8 [12800/60000 (21%)]\tLoss: 0.098931\n",
            "Train Epoch: 8 [19200/60000 (32%)]\tLoss: 0.037615\n",
            "Train Epoch: 8 [25600/60000 (43%)]\tLoss: 0.049155\n",
            "Train Epoch: 8 [32000/60000 (53%)]\tLoss: 0.163345\n",
            "Train Epoch: 8 [38400/60000 (64%)]\tLoss: 0.027810\n",
            "Train Epoch: 8 [44800/60000 (75%)]\tLoss: 0.107990\n",
            "Train Epoch: 8 [51200/60000 (85%)]\tLoss: 0.075612\n",
            "Train Epoch: 8 [57600/60000 (96%)]\tLoss: 0.055581\n",
            "Train Epoch: 9 [0/60000 (0%)]\tLoss: 0.070078\n",
            "Train Epoch: 9 [6400/60000 (11%)]\tLoss: 0.134942\n",
            "Train Epoch: 9 [12800/60000 (21%)]\tLoss: 0.089664\n",
            "Train Epoch: 9 [19200/60000 (32%)]\tLoss: 0.060020\n",
            "Train Epoch: 9 [25600/60000 (43%)]\tLoss: 0.062550\n",
            "Train Epoch: 9 [32000/60000 (53%)]\tLoss: 0.083020\n",
            "Train Epoch: 9 [38400/60000 (64%)]\tLoss: 0.177480\n",
            "Train Epoch: 9 [44800/60000 (75%)]\tLoss: 0.026717\n",
            "Train Epoch: 9 [51200/60000 (85%)]\tLoss: 0.055246\n",
            "Train Epoch: 9 [57600/60000 (96%)]\tLoss: 0.123363\n"
          ]
        }
      ]
    },
    {
      "cell_type": "markdown",
      "source": [
        "### Load the test data and test the model"
      ],
      "metadata": {
        "id": "07qN1otrzEZ9"
      }
    },
    {
      "cell_type": "code",
      "source": [
        "test_dataset=datasets.MNIST('data',train=False,download=True,transform=transform)\n",
        "test_loader=torch.utils.data.DataLoader(test_dataset,batch_size=1000,shuffle=True)\n",
        "correct=0\n",
        "total=0\n",
        "with torch.no_grad():\n",
        "  output=net(data)\n",
        "  _,predicted=torch.max(output.data,1)\n",
        "  total+=target.size(0)\n",
        "  correct+=(predicted==target).sum().item()"
      ],
      "metadata": {
        "id": "F2lrmOs_v02B"
      },
      "execution_count": 6,
      "outputs": []
    },
    {
      "cell_type": "markdown",
      "source": [
        "### Accuracy"
      ],
      "metadata": {
        "id": "u-3fQYTwzOE6"
      }
    },
    {
      "cell_type": "code",
      "source": [
        "print('Accuracy of the network on the 10000 test images: %d %%' % (\n",
        "    100 * correct / total))"
      ],
      "metadata": {
        "colab": {
          "base_uri": "https://localhost:8080/"
        },
        "id": "dNFAEhL5x2Lg",
        "outputId": "71158702-4af4-4b3a-933a-f180953afc29"
      },
      "execution_count": 7,
      "outputs": [
        {
          "output_type": "stream",
          "name": "stdout",
          "text": [
            "Accuracy of the network on the 10000 test images: 100 %\n"
          ]
        }
      ]
    }
  ]
}