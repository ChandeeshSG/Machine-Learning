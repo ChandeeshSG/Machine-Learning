{
  "nbformat": 4,
  "nbformat_minor": 0,
  "metadata": {
    "colab": {
      "provenance": [],
      "authorship_tag": "ABX9TyNsyrpVwa8uaQR4MhC6nmyT",
      "include_colab_link": true
    },
    "kernelspec": {
      "name": "python3",
      "display_name": "Python 3"
    },
    "language_info": {
      "name": "python"
    }
  },
  "cells": [
    {
      "cell_type": "markdown",
      "metadata": {
        "id": "view-in-github",
        "colab_type": "text"
      },
      "source": [
        "<a href=\"https://colab.research.google.com/github/ChandeeshSG/Machine-Learning/blob/main/DAY_1_ML_(Numpy).ipynb\" target=\"_parent\"><img src=\"https://colab.research.google.com/assets/colab-badge.svg\" alt=\"Open In Colab\"/></a>"
      ]
    },
    {
      "cell_type": "code",
      "execution_count": null,
      "metadata": {
        "colab": {
          "base_uri": "https://localhost:8080/"
        },
        "id": "mp6CmNF1Ok-R",
        "outputId": "1d000595-80c2-4075-d6da-28c03aeba92a"
      },
      "outputs": [
        {
          "output_type": "stream",
          "name": "stdout",
          "text": [
            "[1, 2, 3]\n",
            "[1, 2, 3, 5]\n"
          ]
        }
      ],
      "source": [
        "a=[1,2,3]\n",
        "print(a)\n",
        "a.append(5)\n",
        "print(a)"
      ]
    },
    {
      "cell_type": "code",
      "source": [
        "a=(11,12,13)\n",
        "print(a)\n",
        "b=(21,22,23)\n",
        "print(b)\n",
        "c=a+b\n",
        "print(c)"
      ],
      "metadata": {
        "colab": {
          "base_uri": "https://localhost:8080/"
        },
        "id": "miw6-0gVcYtJ",
        "outputId": "7b44711d-80ac-46fe-8187-fb9937578d3f"
      },
      "execution_count": null,
      "outputs": [
        {
          "output_type": "stream",
          "name": "stdout",
          "text": [
            "(11, 12, 13)\n",
            "(21, 22, 23)\n",
            "(11, 12, 13, 21, 22, 23)\n"
          ]
        }
      ]
    },
    {
      "cell_type": "code",
      "source": [
        "import numpy as np"
      ],
      "metadata": {
        "id": "K0xX_vYFdVOb"
      },
      "execution_count": null,
      "outputs": []
    },
    {
      "cell_type": "code",
      "source": [
        "a=np.array([[1,2,3],[4,5,6]])\n",
        "print(a)\n",
        "print(a.shape)"
      ],
      "metadata": {
        "colab": {
          "base_uri": "https://localhost:8080/"
        },
        "id": "gK1lW_sIef92",
        "outputId": "c040fd1b-19db-4a2c-bec4-88e829340383"
      },
      "execution_count": null,
      "outputs": [
        {
          "output_type": "stream",
          "name": "stdout",
          "text": [
            "[[1 2 3]\n",
            " [4 5 6]]\n",
            "(2, 3)\n"
          ]
        }
      ]
    },
    {
      "cell_type": "code",
      "source": [
        "a = np.arange(10,20)\n",
        "print(a)"
      ],
      "metadata": {
        "colab": {
          "base_uri": "https://localhost:8080/"
        },
        "id": "VpWEXMAweNhn",
        "outputId": "fe8e5d4a-22b7-43c2-c53c-a8bd724441c1"
      },
      "execution_count": null,
      "outputs": [
        {
          "output_type": "stream",
          "name": "stdout",
          "text": [
            "[10 11 12 13 14 15 16 17 18 19]\n"
          ]
        }
      ]
    },
    {
      "cell_type": "code",
      "source": [
        "x=np.array([1,2])\n",
        "y=np.array([2.0,4.0])\n",
        "print(x.dtype,y.dtype)"
      ],
      "metadata": {
        "colab": {
          "base_uri": "https://localhost:8080/"
        },
        "id": "sevg6cI_fDAz",
        "outputId": "3d51c698-6855-4ab6-f2c8-51008e10e2ab"
      },
      "execution_count": null,
      "outputs": [
        {
          "output_type": "stream",
          "name": "stdout",
          "text": [
            "int64 float64\n"
          ]
        }
      ]
    },
    {
      "cell_type": "code",
      "source": [
        "print(np.ones((2,4)))\n",
        "print(np.zeros((2,6)))\n",
        "print(np.full((2,4,8),7))"
      ],
      "metadata": {
        "colab": {
          "base_uri": "https://localhost:8080/"
        },
        "id": "D1dJYyhYfYE6",
        "outputId": "76f99876-dc9d-4ff3-fd58-2a859612dfc4"
      },
      "execution_count": null,
      "outputs": [
        {
          "output_type": "stream",
          "name": "stdout",
          "text": [
            "[[1. 1. 1. 1.]\n",
            " [1. 1. 1. 1.]]\n",
            "[[0. 0. 0. 0. 0. 0.]\n",
            " [0. 0. 0. 0. 0. 0.]]\n",
            "[[[7 7 7 7 7 7 7 7]\n",
            "  [7 7 7 7 7 7 7 7]\n",
            "  [7 7 7 7 7 7 7 7]\n",
            "  [7 7 7 7 7 7 7 7]]\n",
            "\n",
            " [[7 7 7 7 7 7 7 7]\n",
            "  [7 7 7 7 7 7 7 7]\n",
            "  [7 7 7 7 7 7 7 7]\n",
            "  [7 7 7 7 7 7 7 7]]]\n"
          ]
        }
      ]
    },
    {
      "cell_type": "code",
      "source": [
        "c=np.eye(5)\n",
        "print(c)"
      ],
      "metadata": {
        "colab": {
          "base_uri": "https://localhost:8080/"
        },
        "id": "2GKA40hbgh0M",
        "outputId": "bd5f52d5-13ac-426e-a652-f82c5e89bff8"
      },
      "execution_count": null,
      "outputs": [
        {
          "output_type": "stream",
          "name": "stdout",
          "text": [
            "[[1. 0. 0. 0. 0.]\n",
            " [0. 1. 0. 0. 0.]\n",
            " [0. 0. 1. 0. 0.]\n",
            " [0. 0. 0. 1. 0.]\n",
            " [0. 0. 0. 0. 1.]]\n"
          ]
        }
      ]
    },
    {
      "cell_type": "code",
      "source": [
        "d=np.linspace(0,1,num=5)\n",
        "print(d)"
      ],
      "metadata": {
        "colab": {
          "base_uri": "https://localhost:8080/"
        },
        "id": "S_JY4HOLgu0g",
        "outputId": "095145db-4b0e-4d5a-a68e-4198b10aa708"
      },
      "execution_count": null,
      "outputs": [
        {
          "output_type": "stream",
          "name": "stdout",
          "text": [
            "[0.   0.25 0.5  0.75 1.  ]\n"
          ]
        }
      ]
    },
    {
      "cell_type": "code",
      "source": [
        "q=np.array([[1,2,4,5],[3,4,6,7]])\n",
        "print(q[0,0:3])\n",
        "print(q[0:3,1:3])     #Before comma(,) represents a ROW and after comma represents COLUMN"
      ],
      "metadata": {
        "colab": {
          "base_uri": "https://localhost:8080/"
        },
        "id": "ahvHrDAphymH",
        "outputId": "8de2ffaa-443f-450c-f39a-35f1e87c5f33"
      },
      "execution_count": null,
      "outputs": [
        {
          "output_type": "stream",
          "name": "stdout",
          "text": [
            "[1 2 4]\n",
            "[[2 4]\n",
            " [4 6]]\n"
          ]
        }
      ]
    },
    {
      "cell_type": "code",
      "source": [
        "s=np.array([[1,2,3,4],[5,6,7,8],[11,12,13,14]])\n",
        "print(s)"
      ],
      "metadata": {
        "colab": {
          "base_uri": "https://localhost:8080/"
        },
        "id": "1sxbkqv0mAV_",
        "outputId": "e241cf1d-b0fc-4f52-cfa4-d041735fabe7"
      },
      "execution_count": null,
      "outputs": [
        {
          "output_type": "stream",
          "name": "stdout",
          "text": [
            "[[ 1  2  3  4]\n",
            " [ 5  6  7  8]\n",
            " [11 12 13 14]]\n"
          ]
        }
      ]
    },
    {
      "cell_type": "code",
      "source": [
        "r1=s[1, :]          # (:) prints the entire row\n",
        "r2=s[1:3, :]\n",
        "r3=s[[1], :]\n",
        "print(r1,r1.shape)\n",
        "print(r2,r2.shape)\n",
        "print(r3,r3.shape)"
      ],
      "metadata": {
        "colab": {
          "base_uri": "https://localhost:8080/"
        },
        "id": "3KTLUhqHmtT3",
        "outputId": "9f895638-141d-41b9-eba1-50225c9202f7"
      },
      "execution_count": null,
      "outputs": [
        {
          "output_type": "stream",
          "name": "stdout",
          "text": [
            "[5 6 7 8] (4,)\n",
            "[[ 5  6  7  8]\n",
            " [11 12 13 14]] (2, 4)\n",
            "[[5 6 7 8]] (1, 4)\n"
          ]
        }
      ]
    },
    {
      "cell_type": "code",
      "source": [
        "c1=s[:,1]          #(:) prints the entire column\n",
        "c2=s[:,1:3]\n",
        "c3=s[:,2:3]\n",
        "print(c1,c1.shape)\n",
        "print(c2,c2.shape)\n",
        "print(c3,c3.shape)"
      ],
      "metadata": {
        "colab": {
          "base_uri": "https://localhost:8080/"
        },
        "id": "MknzUlktnxuI",
        "outputId": "4137caaa-724b-4e9d-ef7d-0f3d3792dcde"
      },
      "execution_count": null,
      "outputs": [
        {
          "output_type": "stream",
          "name": "stdout",
          "text": [
            "[ 2  6 12] (3,)\n",
            "[[ 2  3]\n",
            " [ 6  7]\n",
            " [12 13]] (3, 2)\n",
            "[[ 3]\n",
            " [ 7]\n",
            " [13]] (3, 1)\n"
          ]
        }
      ]
    },
    {
      "cell_type": "code",
      "source": [
        "a=np.array([[1,2,3],[4,5,6],[8,9,0],[11,12,13]])\n",
        "b=np.array([0,2,1,0])                            #Act as a index for 'a'\n",
        "print(a[np.arange(4),b])"
      ],
      "metadata": {
        "colab": {
          "base_uri": "https://localhost:8080/"
        },
        "id": "_EwAsRQA7plK",
        "outputId": "30b950bd-36c1-4d86-b8f7-e544790e63c8"
      },
      "execution_count": null,
      "outputs": [
        {
          "output_type": "stream",
          "name": "stdout",
          "text": [
            "[ 1  6  9 11]\n"
          ]
        }
      ]
    },
    {
      "cell_type": "code",
      "source": [
        "bool_idx=(a>2)\n",
        "bool_idx\n",
        "#a[a>2]"
      ],
      "metadata": {
        "colab": {
          "base_uri": "https://localhost:8080/"
        },
        "id": "UWOJ_aIk95io",
        "outputId": "1b108b24-23cc-45ac-d2d5-e648e5219cb1"
      },
      "execution_count": null,
      "outputs": [
        {
          "output_type": "execute_result",
          "data": {
            "text/plain": [
              "array([ 3,  4,  5,  6,  8,  9, 11, 12, 13])"
            ]
          },
          "metadata": {},
          "execution_count": 9
        }
      ]
    },
    {
      "cell_type": "code",
      "source": [
        "a=np.array([1,8,4,6,2,7,-6,3,6])\n",
        "print(a)\n",
        "print(np.argmax(a))             #Returns the greatest number's index\n",
        "print(np.argmin(a))             #Returns the smallest number's index\n",
        "print(np.argsort(a))            #Returns the index of the sorted elements from smallest to largest\n",
        "print(np.argsort(a)[::-1])      #Returns the index of the sorted elements from largest to smallest\n",
        "print(np.where(a>1)[0])"
      ],
      "metadata": {
        "colab": {
          "base_uri": "https://localhost:8080/"
        },
        "id": "QigaK6vD-kUb",
        "outputId": "6bdf541d-66ec-48c9-934e-987288c57c57"
      },
      "execution_count": null,
      "outputs": [
        {
          "output_type": "stream",
          "name": "stdout",
          "text": [
            "[ 1  8  4  6  2  7 -6  3  6]\n",
            "1\n",
            "6\n",
            "[6 0 4 7 2 3 8 5 1]\n",
            "[1 5 8 3 2 7 4 0 6]\n",
            "[1 2 3 4 5 7 8]\n"
          ]
        }
      ]
    },
    {
      "cell_type": "code",
      "source": [
        "a=[0]\n",
        "a=np.append(a,[1,2,3,4])       #Add the elements in the list\n",
        "print(a)\n",
        "b=np.delete(a,[0,4])           #Delete the elements in the list\n",
        "print(b)"
      ],
      "metadata": {
        "colab": {
          "base_uri": "https://localhost:8080/"
        },
        "id": "00GmQwXc_2cX",
        "outputId": "f34a5126-0afa-4603-c8ac-0f18dd220534"
      },
      "execution_count": null,
      "outputs": [
        {
          "output_type": "stream",
          "name": "stdout",
          "text": [
            "[0 1 2 3 4]\n",
            "[1 2 3]\n"
          ]
        }
      ]
    },
    {
      "cell_type": "code",
      "source": [
        "a=np.array([[1,2,3],[4,5,6],[8,9,0],[11,12,13]])\n",
        "print(a)\n",
        "a=np.sort(a,axis=1,kind=\"quicksort\")\n",
        "b=np.sort(a,axis=0,kind=\"quicksort\")           #axis=0 Columnwise sort,axis=1 Rowwise sort\n",
        "print(a)\n",
        "print(b)"
      ],
      "metadata": {
        "colab": {
          "base_uri": "https://localhost:8080/"
        },
        "id": "9KG85On9AN3B",
        "outputId": "ff2a9276-86c2-4fde-b662-b088492db569"
      },
      "execution_count": null,
      "outputs": [
        {
          "output_type": "stream",
          "name": "stdout",
          "text": [
            "[[ 1  2  3]\n",
            " [ 4  5  6]\n",
            " [ 8  9  0]\n",
            " [11 12 13]]\n",
            "[[ 1  2  3]\n",
            " [ 4  5  6]\n",
            " [ 0  8  9]\n",
            " [11 12 13]]\n",
            "[[ 0  2  3]\n",
            " [ 1  5  6]\n",
            " [ 4  8  9]\n",
            " [11 12 13]]\n"
          ]
        }
      ]
    },
    {
      "cell_type": "code",
      "source": [
        "a=np.array([[1],[4],[8],[11]])\n",
        "x=a.squeeze()\n",
        "print(x)\n",
        "x.shape"
      ],
      "metadata": {
        "colab": {
          "base_uri": "https://localhost:8080/"
        },
        "id": "cix-9ksqD47p",
        "outputId": "54f0d944-8d5e-4b7d-f805-43aa20bc3801"
      },
      "execution_count": null,
      "outputs": [
        {
          "output_type": "stream",
          "name": "stdout",
          "text": [
            "[ 1  4  8 11]\n"
          ]
        },
        {
          "output_type": "execute_result",
          "data": {
            "text/plain": [
              "(4,)"
            ]
          },
          "metadata": {},
          "execution_count": 34
        }
      ]
    }
  ]
}